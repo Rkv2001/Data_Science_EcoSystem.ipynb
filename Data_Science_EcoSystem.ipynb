{
 "cells": [
  {
   "cell_type": "markdown",
   "id": "8da279cc",
   "metadata": {},
   "source": [
    "# Data Science Tools and Ecosystem."
   ]
  },
  {
   "cell_type": "markdown",
   "id": "3bcc314d",
   "metadata": {},
   "source": [
    "In this notebook, Data Science Tools and Ecosystem are summarized."
   ]
  },
  {
   "cell_type": "markdown",
   "id": "a43cb30a",
   "metadata": {},
   "source": [
    "Some of the popular languages that Data Scientists use are:\n",
    "\n",
    "\t1-Python\n",
    "\t2-SQL\n",
    "\t3-R\n",
    "\t4-Scala"
   ]
  },
  {
   "cell_type": "markdown",
   "id": "c1f529d9",
   "metadata": {},
   "source": [
    "Some of the commonly used libraries used by Data Scientists include:\n",
    "\n",
    "\t1-Keras\n",
    "\t2-scikit-learn\n",
    "\t3-Tensorflow\n",
    "\t4-PyTorch\n"
   ]
  },
  {
   "cell_type": "markdown",
   "id": "a47732ea",
   "metadata": {},
   "source": [
    "|Data Science Tools|\n",
    "|----|\n",
    "|jupyter Notebook|\n",
    "|R Studio|\n",
    "|Zepplin Notebook|"
   ]
  },
  {
   "cell_type": "markdown",
   "id": "edd7f01d",
   "metadata": {},
   "source": [
    "Below are a few examples of evaluating arithmetic expressions in Python\n"
   ]
  },
  {
   "cell_type": "code",
   "execution_count": 5,
   "id": "d262cb5a",
   "metadata": {},
   "outputs": [
    {
     "name": "stdout",
     "output_type": "stream",
     "text": [
      "17\n"
     ]
    }
   ],
   "source": [
    "# This a simple arithmetic expression to mutiply then add integers.\n",
    "a=3\n",
    "b=4\n",
    "c=5\n",
    "d=a*b+c\n",
    "print(d)"
   ]
  },
  {
   "cell_type": "code",
   "execution_count": 6,
   "id": "7a3fd330",
   "metadata": {},
   "outputs": [
    {
     "name": "stdout",
     "output_type": "stream",
     "text": [
      "3 hours 20 minutes\n"
     ]
    }
   ],
   "source": [
    "# This will convert 200 minutes to hours by diving by 60\n",
    "\n",
    "print(200//60,\"hours\",(200%60),\"minutes\")"
   ]
  },
  {
   "cell_type": "markdown",
   "id": "7286387b",
   "metadata": {},
   "source": [
    "#### Objectives:-"
   ]
  },
  {
   "cell_type": "markdown",
   "id": "ae06cb07",
   "metadata": {},
   "source": [
    "\n",
    "List popular Data Science Languages.\n",
    "List commonly used Data Science libraries.\n",
    "List Data Science Development Tools.\n",
    "Examples of Evaluating Arithmetic expressions in Python."
   ]
  },
  {
   "cell_type": "markdown",
   "id": "abe21180",
   "metadata": {},
   "source": [
    "## Author:"
   ]
  },
  {
   "cell_type": "markdown",
   "id": "0638b8f2",
   "metadata": {},
   "source": [
    "Rajat Kumar Varshney."
   ]
  }
 ],
 "metadata": {
  "kernelspec": {
   "display_name": "Python 3 (ipykernel)",
   "language": "python",
   "name": "python3"
  },
  "language_info": {
   "codemirror_mode": {
    "name": "ipython",
    "version": 3
   },
   "file_extension": ".py",
   "mimetype": "text/x-python",
   "name": "python",
   "nbconvert_exporter": "python",
   "pygments_lexer": "ipython3",
   "version": "3.9.13"
  }
 },
 "nbformat": 4,
 "nbformat_minor": 5
}
